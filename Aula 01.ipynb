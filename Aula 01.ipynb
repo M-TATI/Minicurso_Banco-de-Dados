{
 "cells": [
  {
   "cell_type": "markdown",
   "id": "421f2321",
   "metadata": {},
   "source": [
    "# BANCO DE DADOS\n",
    "\n",
    "## Aula 01: Conceitos iniciais\n",
    "___"
   ]
  },
  {
   "cell_type": "markdown",
   "id": "bdc70bb0",
   "metadata": {},
   "source": [
    "Um banco de dados é uma coleção de dados que\n",
    "\n",
    "* se refere a algum aspecto do mundo real\n",
    "\n",
    "* possui um objetivo específico \n",
    "\n",
    "* tem uma estrutura lógica que confere signficado aos dados\n",
    "\n",
    "* e esses dados são FATOS do dia a dia que são armazenados"
   ]
  },
  {
   "cell_type": "markdown",
   "id": "d1b497f4",
   "metadata": {},
   "source": [
    "## DADOS vs SISTEMA (APLICAÇÃO)\n",
    "\n",
    "__SGBD__ : Sistema gerenciador de banco de dados\n",
    "\n",
    "Quando um sistema não usa um SGBD ele deve se preocupar com coisas como:\n",
    "\n",
    "    * Backup \n",
    "    * Segurança dos dados\n",
    "    * Controle de acesso, etc\n",
    "    \n",
    "Entretanto, o SGBD já traz todas essas coisas. \n",
    "\n",
    "    \n",
    "> O SGBD permite operações com os dados de maneira independente da aplicação, ou seja, pode-se fazer consulta diretamente no banco de dados, sem se preocupar com a forma em que o sistema foi desenvolvido >>  Isso significa que um programador, em geral, quando usa uma determinada função do SGBD não se preocupa sobre como essa função foi implementada no SGBD, apenas no funcionamento dela pro banco de dados de interesse. "
   ]
  },
  {
   "cell_type": "markdown",
   "id": "49e593d6",
   "metadata": {},
   "source": [
    "Para usar o SGBD e suas funcionalidades é preciso conhecer o MODELO DE DADOS.\n",
    "\n",
    "O modelo de dados conceitual é construído por um analista de\n",
    "dados, e sua implementação física é realizada em um SGBD.\n",
    "\n",
    "Quem usa o SGBD?\n",
    "\n",
    "● administradores de banco de dados (DBA database administrator)\n",
    "\n",
    "● projetistas de banco de dados ( database designers)\n",
    "\n",
    "● analistas de sistemas e programadores de aplicação\n",
    "\n",
    "● usuários finais\n",
    "\n",
    "__VANTAGENS__: \n",
    "\n",
    "1. Controle de redundância\n",
    "2. Controle de acesso\n",
    "3. Persistência para programas e estruturas de dados: códigos e estruturas de dados são armazenados e gerenciados pelos SGBDs como objetos\n",
    "4. Eficiência no processo de consultas\n",
    "5. Oferecimento de sistemas de backup e recuperação\n",
    "6. Garantia das restrições de integridade (ex. evitar de excluir alguma coisa que não deveria)\n",
    "7. Garante padrões\n",
    "8. Reduz o tempo de desenvolvimento de aplicações\n",
    "9. Fornece flexibilidade e disponibilidade\n",
    "10. Promove economia de escala"
   ]
  },
  {
   "cell_type": "markdown",
   "id": "61e247e2",
   "metadata": {},
   "source": [
    "<img src= '0.png'>\n",
    "\n",
    "Imagem: https://artefdp.wordpress.com/2010/03/23/tudo-sobre-banco-de-dados/"
   ]
  },
  {
   "cell_type": "markdown",
   "id": "0180c1df",
   "metadata": {},
   "source": [
    "## MODELO DE DADOS \n",
    "___\n",
    "\n",
    "1. MODELOS DE DADOS DE ALTO NÍVEL (MODELOS DE DADOS CONCEITUAIS)\n",
    "\n",
    "* MER: Modelo Entidade- Relacionamento \n",
    "\n",
    "2. MODELOS DE BAIXO NÍVEL (MODELOS DE DADOS FÍSICOS)\n",
    "\n",
    "* Modelo pro SGBD: como voi armazenar, acessar, formatar e ordenar os dados.\n",
    "\n",
    "3. MODELOS DE DADOS DE REPRESENTAÇÃO (OU IMPLEMENTAÇÃO)\n",
    "\n",
    "* Modelo Relacional\n",
    "\n",
    "\n",
    "\n",
    ">>> Fases de estruturação: 1 >> 3 >> 2 \n",
    "Um modelo entida-relacionamento nem sempre pode ser colocado em prática em sua forma original. Muitas vezes é necessário especificar alguns detalhes de formatação que serão importantes na implementação do SGBD. Esse passo intermediário é o modelo relacional.\n",
    "\n",
    "\n",
    "__Esquema__: (Estrutura) Descrição de um banco de dados. É especificado durante o projeto do banco de dados e não é esperado que sofra mudanças frequentes.\n",
    "\n",
    "__Instância (estado)__: os dados armazenados em um banco de dados em um momento particular."
   ]
  },
  {
   "cell_type": "markdown",
   "id": "04aef0e2",
   "metadata": {},
   "source": [
    "## LINGUAGENS\n",
    "___\n",
    "\n",
    "1. DDL (Linguagem de definição de dados): é usada para definir o esquema do banco de dados.\n",
    "    * SDL: Linguagem de definição de armazenamento\n",
    "    * VDL: Linguagem de definição de visão\n",
    "\n",
    "2. DML (Linguagem de manipulação de dados): é usada pra executar operações (instruções de inserção, exclusão e modificação dos dados)"
   ]
  },
  {
   "cell_type": "markdown",
   "id": "c8d3ac1e",
   "metadata": {},
   "source": [
    "___\n",
    "\n",
    "___"
   ]
  },
  {
   "cell_type": "markdown",
   "id": "93a4939e",
   "metadata": {},
   "source": [
    "## MODELAGEM DE DADOS\n",
    "\n",
    "1. Modelo Entidade-Relacionamento (MER)\n",
    "\n",
    "* Representação baseada em diagramas \n",
    "\n",
    "__ELEMENTOS__:\n",
    "* Entidades\n",
    "* Atributos\n",
    "* Chaves\n",
    "* Relacionamentos\n",
    "* Cardinalidades\n",
    "\n"
   ]
  },
  {
   "cell_type": "markdown",
   "id": "e40af8d7",
   "metadata": {},
   "source": [
    "### Entidades\n",
    "(Podem ser Fortes ou Fracas)\n",
    "\n",
    "É um objeto do MER usado para representar uma coisa do mundo real. Se a existência desse objeto for _independente_, então ele será uma entidade forte. Se ele só fizer sentido quando estiver relacionado à outra entidade, então essa é uma entidade fraca. \n",
    "\n",
    "> Entidades fortes são representadas por retângulos simples. Entidades fracas são representadas por retângulos duplos!\n",
    "\n",
    "\n",
    "<img src= '1.PNG'>\n"
   ]
  },
  {
   "cell_type": "markdown",
   "id": "1b70401d",
   "metadata": {},
   "source": [
    "### Atributo\n",
    "\n",
    "É a propriedade que descreve uma entidade. \n",
    "\n",
    "Ex: Uma pessoa possui uma idade, um número de cpf, uma data de nascimento, etc. \n",
    "\n",
    "Atributos podem ser\n",
    "* Simples ou compostos:\n",
    "* Univalorado ou Multivalorado\n",
    "* Armazenados ou derivados\n",
    "\n",
    "> Atributos são representados por elipses!\n",
    "\n",
    "<img src= '2.PNG'>\n"
   ]
  },
  {
   "cell_type": "markdown",
   "id": "5cea2d74",
   "metadata": {},
   "source": [
    "### Esquema\n",
    "\n",
    "É uma coleção (um tipo entidade) de Entidades que possuem o mesmo atributo\n",
    "\n",
    "EX: O nome do tipo entidade é o nome da tabela\n",
    "\n",
    "### Instância\n",
    "\n",
    "Um conjuto entidade: coleção de todas as entidades de um tipo entidade.\n",
    "\n",
    "EX: cada entrada individual da tabela (conjunto de entidades) "
   ]
  },
  {
   "cell_type": "markdown",
   "id": "2f43c3d8",
   "metadata": {},
   "source": [
    "### CHAVES\n",
    "\n",
    "__Atributo chave__: Um tipo entidade, usualmente, tem um ou mais atributos que assumem valores distintos para cada entidade\n",
    "individual dentro do conjunto entidade. Esse atributo, ou conjunto de atributos (chave composta), identifica unicamente\n",
    "uma entidade.\n",
    "\n",
    "_Restrição de unicidade_: proíbe que duas entidades, em um mesmo conjunto entidade, tenham os mesmos valores no seu\n",
    "atributo chave.\n",
    "\n",
    "> Atributos chaves são apresentados no MER de forma sublinhada!\n",
    "\n",
    "<img src= '3.PNG'>\n",
    "\n",
    "__Chave parcial__: Um entidade fraca possui uma chave parcial"
   ]
  },
  {
   "cell_type": "markdown",
   "id": "797aa645",
   "metadata": {},
   "source": [
    "### Relacionamentos\n",
    "\n",
    "Relações (associações) entre as entidades.\n",
    "\n",
    "> No diagrama MER os relacionamentos são representados por losangos!\n",
    "\n",
    "<img src= '4.PNG'>\n",
    "\n",
    "#### GRAU DE RELACIONAMENTO\n",
    "\n",
    "É o número de entidades participantes do relacionamento. \n",
    "\n",
    "* binário (de grau 2)\n",
    "* ternário (de grau 3)\n",
    "* n-ário (de grau n)\n",
    "\n",
    "EX: um fornecedor fornece peças para um projeto.\n",
    "O relacionamento FORNECE envolve as entidades FORNECEDOR, PEÇA e PROJETO.\n",
    "\n",
    "_Relacionamento recursivo_: quando o mesmo tipo entidade participa mais de uma vez do ralacionamento, assumindo papéis diferentes. \n",
    "\n",
    "### Cardinalidade\n",
    "\n",
    "Especifica o número máximo de instâncias de relacionamento nas quais uma instância de entidade pode participar.\n",
    "\n",
    "1:1   um para um\n",
    "1:N   um para muitos\n",
    "N:1   muitos para um\n",
    "M:N   muitos para muitos\n",
    "\n",
    "> No diagrama MER, a cardinalidade é repesentada por 1, N ou M junto com os losangos!\n",
    "\n",
    "<img src= '5.PNG'>"
   ]
  },
  {
   "cell_type": "markdown",
   "id": "b6034290",
   "metadata": {},
   "source": [
    "### RESTRIÇÃO DE PARTICIPAÇÃO\n",
    "\n",
    "Especifica se uma entidade individual precisa, necessariamente, estar associada a outra entidade individual via um tipo relacionamento. Se a participação em um tipo relacionamento é obrigatória, ela é dita TOTAL, senão ela é dita PARCIAL.\n",
    "\n",
    "> No diagrama MER: _participação total_ recebe linha dupla. Participação parcial recebe linha simples!\n",
    "\n",
    "<img src= '6.PNG'>"
   ]
  },
  {
   "cell_type": "markdown",
   "id": "1cfd06d0",
   "metadata": {},
   "source": [
    "## JUNTANDO TUDO:\n",
    "\n",
    "<img src= '7.PNG'>"
   ]
  }
 ],
 "metadata": {
  "kernelspec": {
   "display_name": "Python 3 (ipykernel)",
   "language": "python",
   "name": "python3"
  },
  "language_info": {
   "codemirror_mode": {
    "name": "ipython",
    "version": 3
   },
   "file_extension": ".py",
   "mimetype": "text/x-python",
   "name": "python",
   "nbconvert_exporter": "python",
   "pygments_lexer": "ipython3",
   "version": "3.9.7"
  }
 },
 "nbformat": 4,
 "nbformat_minor": 5
}
